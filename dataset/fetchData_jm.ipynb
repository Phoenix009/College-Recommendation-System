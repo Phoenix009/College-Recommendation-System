{
 "cells": [
  {
   "cell_type": "code",
   "execution_count": 1,
   "source": [
    "import pandas as pd\n",
    "import numpy as np"
   ],
   "outputs": [],
   "metadata": {}
  },
  {
   "cell_type": "code",
   "execution_count": null,
   "source": [
    "cutoffs = pd.read_csv('clgBranchCutoff.csv')\n",
    "cutoffs = cutoffs.iloc[::2]\n",
    "cutoffs = cutoffs.drop(columns = ['Unnamed: 0', 'GNT2S', 'LNT2S', 'ORPHAN', 'EWS', 'TFWS', 'ABCD', 'EFGH', 'Unnamed: 16', 'Unnamed: 17'])\n",
    "cutoffs = cutoffs.iloc[:681]"
   ],
   "outputs": [],
   "metadata": {}
  },
  {
   "cell_type": "code",
   "execution_count": null,
   "source": [
    "clgBranch = pd.read_csv('clgNameBranch.csv')\n",
    "clg = clgBranch.iloc[::2]\n",
    "branch = clgBranch.iloc[1::2]\n",
    "clg = list(clg['clg'])\n",
    "branch = list(branch['clg'])\n",
    "cutoffs['ClgName'] = clg\n",
    "cutoffs['Branch'] = branch\n",
    "colnames = ['ClgName', 'Branch', 'GOPENS', 'GSCS', 'GSTS', 'GNT1S', 'GOBCS', 'LOPENS', 'LOBCS', 'PWDOPENS']\n",
    "cutoffs = cutoffs.reindex(columns=colnames)\n",
    "cutoffs\n",
    "colname = ['GOPENS', 'GSCS', 'GSTS', 'GNT1S', 'GOBCS', 'LOPENS', 'LOBCS', 'PWDOPENS']\n",
    "cutoffs = cutoffs.replace(r'\\r.*', '', regex=True)\n",
    "cutoffs = cutoffs.replace(r'.*- ', '', regex=True)\n",
    "cutoffs"
   ],
   "outputs": [],
   "metadata": {}
  },
  {
   "cell_type": "code",
   "execution_count": null,
   "source": [
    "cutoffs.to_csv(\"cutoffs.csv\")"
   ],
   "outputs": [],
   "metadata": {}
  },
  {
   "cell_type": "code",
   "execution_count": 38,
   "source": [
    "def extract_score_rank(string):\n",
    "    info = list(string.split())\n",
    "    info[1] = info[1][1:-1]\n",
    "    return info[0],info[1]\n",
    "\n",
    "def extract_name_town_city(sample):\n",
    "    res = sample.split(',')\n",
    "    name, town, city = '', '', ''\n",
    "    if len(res) >= 1: name = res[0]\n",
    "    if len(res) >= 2: town = res[1]\n",
    "    if len(res) >= 3: city = res[2]\n",
    "    name\n",
    "    return name, town, city\n",
    "\n",
    "def extraction(file_names: list):\n",
    "    for file_name in file_names:\n",
    "        table = pd.read_csv(file_name)\n",
    "        print(table.columns)\n",
    "        for i in range(table.shape[0]):\n",
    "            if str(table['Score'][i]) == \"nan\":\n",
    "                table['ClgName'][i-1] = str(table['ClgName'][i-1])\n",
    "                table['ClgName'][i-1] += \", \" + str(table['ClgName'][i])\n",
    "        table = table.replace(r'.*- ', '', regex=True)\n",
    "\n",
    "        table = table.drop(columns=['ChoiceCode', 'A', 'B'])\n",
    "        table = table.dropna(subset=['Score'])\n",
    "        \n",
    "        table['Rank'], table['Scores'] = zip(*table['Score'].map(extract_score_rank))\n",
    "        table['Name'], table['Town'], table['City'] = zip(*table['ClgName'].map(extract_name_town_city))\n",
    "        \n",
    "        table = table.replace(r'.*- ', '', regex=True)\n",
    "        \n",
    "        table = table.drop(columns=['Score', 'ClgName'])\n",
    "        table = table.reindex(columns=['Rank', 'Scores', 'Name', 'Branch', 'Town', 'City'])"
   ],
   "outputs": [],
   "metadata": {}
  },
  {
   "cell_type": "code",
   "execution_count": 39,
   "source": [
    "file_names = ['jeecap1.csv', 'jeecap2.csv']\r\n",
    "df = extraction(file_names)"
   ],
   "outputs": [
    {
     "output_type": "stream",
     "name": "stdout",
     "text": [
      "Index(['Score', 'ChoiceCode', 'ClgName', 'Branch', 'A', 'B'], dtype='object')\n",
      "  Rank Scores                                               Name  \\\n",
      "0  135    210  Bhartiya Vidya Bhavan's Sardar Patel Institute...   \n",
      "1  256    192                   Institute of Chemical Technology   \n",
      "2  294    188              Pune Institute of Computer Technology   \n",
      "3  347    183  Shri Vile Parle Kelvani Mandal's Dwarkadas J. ...   \n",
      "4  391    179  Bhartiya Vidya Bhavan's Sardar Patel Institute...   \n",
      "\n",
      "                   Branch          Town     City  \n",
      "0    Computer Engineering       Andheri   Mumbai  \n",
      "1    Chemical Engineering       Matunga   Mumbai  \n",
      "2    Computer Engineering     Dhankavdi     Pune  \n",
      "3    Computer Engineering  \\nVile Parle   Mumbai  \n",
      "4  Information Technology       Andheri   Mumbai  \n",
      "Index(['Score', 'ChoiceCode', 'ClgName', 'Branch', 'A', 'B'], dtype='object')\n"
     ]
    },
    {
     "output_type": "stream",
     "name": "stderr",
     "text": [
      "<ipython-input-38-32e720056d68>:21: SettingWithCopyWarning: \n",
      "A value is trying to be set on a copy of a slice from a DataFrame\n",
      "\n",
      "See the caveats in the documentation: https://pandas.pydata.org/pandas-docs/stable/user_guide/indexing.html#returning-a-view-versus-a-copy\n",
      "  table['ClgName'][i-1] = str(table['ClgName'][i-1])\n",
      "<ipython-input-38-32e720056d68>:22: SettingWithCopyWarning: \n",
      "A value is trying to be set on a copy of a slice from a DataFrame\n",
      "\n",
      "See the caveats in the documentation: https://pandas.pydata.org/pandas-docs/stable/user_guide/indexing.html#returning-a-view-versus-a-copy\n",
      "  table['ClgName'][i-1] += \", \" + str(table['ClgName'][i])\n",
      "<ipython-input-38-32e720056d68>:21: SettingWithCopyWarning: \n",
      "A value is trying to be set on a copy of a slice from a DataFrame\n",
      "\n",
      "See the caveats in the documentation: https://pandas.pydata.org/pandas-docs/stable/user_guide/indexing.html#returning-a-view-versus-a-copy\n",
      "  table['ClgName'][i-1] = str(table['ClgName'][i-1])\n",
      "<ipython-input-38-32e720056d68>:22: SettingWithCopyWarning: \n",
      "A value is trying to be set on a copy of a slice from a DataFrame\n",
      "\n",
      "See the caveats in the documentation: https://pandas.pydata.org/pandas-docs/stable/user_guide/indexing.html#returning-a-view-versus-a-copy\n",
      "  table['ClgName'][i-1] += \", \" + str(table['ClgName'][i])\n"
     ]
    },
    {
     "output_type": "stream",
     "name": "stdout",
     "text": [
      "  Rank Scores                                               Name  \\\n",
      "0  246    193  Bhartiya Vidya Bhavan's Sardar Patel Institute...   \n",
      "1  391    179                   Institute of Chemical Technology   \n",
      "2  432    175              Pune Institute of Computer Technology   \n",
      "3  466    173  Bhartiya Vidya Bhavan's Sardar Patel Institute...   \n",
      "4  511    170              Pune Institute of Computer Technology   \n",
      "\n",
      "                   Branch        Town     City  \n",
      "0    Computer Engineering     Andheri   Mumbai  \n",
      "1    Chemical Engineering     Matunga   Mumbai  \n",
      "2    Computer Engineering   Dhankavdi     Pune  \n",
      "3  Information Technology     Andheri   Mumbai  \n",
      "4    Computer Engineering   Dhankavdi     Pune  \n"
     ]
    }
   ],
   "metadata": {
    "scrolled": true
   }
  },
  {
   "cell_type": "code",
   "execution_count": null,
   "source": [],
   "outputs": [],
   "metadata": {}
  }
 ],
 "metadata": {
  "kernelspec": {
   "display_name": "Python 3",
   "language": "python",
   "name": "python3"
  },
  "language_info": {
   "codemirror_mode": {
    "name": "ipython",
    "version": 3
   },
   "file_extension": ".py",
   "mimetype": "text/x-python",
   "name": "python",
   "nbconvert_exporter": "python",
   "pygments_lexer": "ipython3",
   "version": "3.8.3"
  }
 },
 "nbformat": 4,
 "nbformat_minor": 5
}