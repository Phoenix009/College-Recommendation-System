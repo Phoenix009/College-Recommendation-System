{
 "cells": [
  {
   "cell_type": "code",
   "execution_count": null,
   "metadata": {},
   "outputs": [],
   "source": [
    "import pandas as pd\n",
    "import random\n",
    "\n",
    "def extract_score_rank(string):\n",
    "    info = list(string.split())\n",
    "    info[1] = info[1][1:-1]\n",
    "    return float(info[0]),float(info[1])\n",
    "\n",
    "def extract_name_town_city(sample):\n",
    "    no_name, town, city = '', '', ''\n",
    "    res = sample.split(',')\n",
    "\n",
    "    if len(res) > 0: no_name = res[0]\n",
    "    if len(res) > 1: town = res[1]\n",
    "    if len(res) > 2: city = res[2]\n",
    "\n",
    "    res = no_name.split(' - ') \n",
    "    number, name = '', ''\n",
    "    if len(res) > 0: number = res[0]\n",
    "    if len(res) > 1: name = res[1]\n",
    "    \n",
    "    return number, name, town, city\n",
    "\n",
    "def extraction(file_names: list, extenstions: list):\n",
    "    res = []\n",
    "    for index, file_name in enumerate(file_names):\n",
    "        table = pd.read_csv(file_name)\n",
    "\n",
    "        for i in range(table.shape[0]):\n",
    "            if str(table['Score'][i]) == \"nan\":\n",
    "                table['ClgName'][i-1] = str(table['ClgName'][i-1])\n",
    "                table['ClgName'][i-1] += \", \" + str(table['ClgName'][i])\n",
    "        table = table.replace(r'.*CET', 'MHTCET', regex=True)\n",
    "        table = table.replace(r'\\n', '', regex=True)\n",
    "\n",
    "\n",
    "        table = table.drop(columns=['ChoiceCode'])\n",
    "        table = table.dropna(subset=['Score'])\n",
    "        \n",
    "        rank = 'Rank' + extensions[index]\n",
    "        scores = 'Score' + extensions[index]\n",
    "        table[rank], table[scores] = zip(*table['Score'].map(extract_score_rank))\n",
    "        table['ClgID'], table['Name'], table['Town'], table['City'] = zip(*table['ClgName'].map(extract_name_town_city))\n",
    "                \n",
    "        table = table.drop(columns=['Score', 'ClgName'])\n",
    "        table = table.reindex(columns=['ClgID', 'Name', 'Branch', 'Town', 'City', 'Exam', rank, scores])\n",
    "        res.append(table)\n",
    "    return res"
   ]
  },
  {
   "cell_type": "code",
   "execution_count": null,
   "metadata": {},
   "outputs": [],
   "source": [
    "file_names = ['jee19-20cap1.csv', 'jee19-20cap2.csv', 'jee20-21cap1.csv', 'jee20-21cap2.csv']\n",
    "extensions = ['_19_R1', '_19_R2', '_20_R1', '_20_R2']\n",
    "dataframes = extraction(file_names, extensions)"
   ]
  },
  {
   "cell_type": "code",
   "execution_count": null,
   "metadata": {},
   "outputs": [],
   "source": [
    "dataframes[0].head()"
   ]
  },
  {
   "cell_type": "code",
   "execution_count": null,
   "metadata": {},
   "outputs": [],
   "source": [
    "merge_on = ['ClgID', 'Branch', 'Exam']\n",
    "res = dataframes[0]\n",
    "for dataframe in dataframes[1:]:\n",
    "    res = pd.merge(res, dataframe, left_on=merge_on, right_on=merge_on)\n",
    "    for col in res.columns:\n",
    "        if '_' in col:\n",
    "            name_type = col.split('_')\n",
    "            if len(name_type) > 2: continue\n",
    "            colname, t = name_type\n",
    "            if t == 'x': res[colname] = res[col]\n",
    "            res.drop(col, axis='columns', inplace=True)\n",
    "\n",
    "\n",
    "res.head()"
   ]
  },
  {
   "cell_type": "code",
   "execution_count": null,
   "metadata": {},
   "outputs": [],
   "source": [
    "res.shape"
   ]
  },
  {
   "cell_type": "code",
   "execution_count": null,
   "metadata": {},
   "outputs": [],
   "source": [
    "res.head()"
   ]
  },
  {
   "cell_type": "code",
   "execution_count": null,
   "metadata": {},
   "outputs": [],
   "source": [
    "colnames = [ 'Name', 'Branch', 'Town', 'City', 'Exam', 'Rank_19_R1', 'Score_19_R1',\n",
    "       'Rank_19_R2', 'Score_19_R2', 'Rank_20_R1', 'Score_20_R1', 'Rank_20_R2',\n",
    "       'Score_20_R2']\n",
    "res = res.reindex(columns=colnames)"
   ]
  },
  {
   "cell_type": "code",
   "execution_count": null,
   "metadata": {},
   "outputs": [],
   "source": [
    "res.to_csv('final.csv')"
   ]
  },
  {
   "cell_type": "code",
   "execution_count": null,
   "metadata": {},
   "outputs": [],
   "source": [
    "res.head()"
   ]
  },
  {
   "cell_type": "code",
   "execution_count": null,
   "metadata": {},
   "outputs": [],
   "source": [
    "df = pd.read_csv('final.csv')\n",
    "moreinfo = pd.read_csv('moreclgdata.csv')\n",
    "moreinfo.drop(moreinfo.iloc[:, 15:],inplace=True, axis=1)\n",
    "df = pd.merge(df, moreinfo, left_on='Name', right_on='Name', how='outer')\n",
    "df = df.drop(columns=['Courses', 'City_x', 'Unnamed: 0'])"
   ]
  },
  {
   "cell_type": "code",
   "execution_count": null,
   "metadata": {
    "scrolled": true
   },
   "outputs": [],
   "source": [
    "df.head()"
   ]
  },
  {
   "cell_type": "code",
   "execution_count": null,
   "metadata": {},
   "outputs": [],
   "source": [
    "df['Name'].nunique()"
   ]
  },
  {
   "cell_type": "code",
   "execution_count": null,
   "metadata": {},
   "outputs": [],
   "source": [
    "df.info()"
   ]
  },
  {
   "cell_type": "code",
   "execution_count": null,
   "metadata": {},
   "outputs": [],
   "source": [
    "df['Rating'] = df['Rating'].astype(float)\n",
    "for i in range(df.shape[0]):\n",
    "    rank = df['Rank_20_R1'][i]\n",
    "    if rank < 700: df['Rating'][i] = random.uniform(3.5, 4)\n",
    "    elif rank < 1100: df['Rating'][i] = random.uniform(3, 3.5)\n",
    "    elif rank < 2000: df['Rating'][i] = random.uniform(2.5, 3)\n",
    "    elif rank < 5000: df['Rating'][i] = random.uniform(2, 2.5)\n",
    "    else: df['Rating'][i] = random.uniform(1, 2)\n",
    "    \n",
    "df = df.round({'Rating':2})"
   ]
  },
  {
   "cell_type": "code",
   "execution_count": null,
   "metadata": {},
   "outputs": [],
   "source": [
    "df.head()"
   ]
  },
  {
   "cell_type": "code",
   "execution_count": null,
   "metadata": {},
   "outputs": [],
   "source": [
    "df.to_csv('database.csv')"
   ]
  },
  {
   "cell_type": "code",
   "execution_count": 2,
   "metadata": {},
   "outputs": [
    {
     "data": {
      "text/html": [
       "<div>\n",
       "<style scoped>\n",
       "    .dataframe tbody tr th:only-of-type {\n",
       "        vertical-align: middle;\n",
       "    }\n",
       "\n",
       "    .dataframe tbody tr th {\n",
       "        vertical-align: top;\n",
       "    }\n",
       "\n",
       "    .dataframe thead th {\n",
       "        text-align: right;\n",
       "    }\n",
       "</style>\n",
       "<table border=\"1\" class=\"dataframe\">\n",
       "  <thead>\n",
       "    <tr style=\"text-align: right;\">\n",
       "      <th></th>\n",
       "      <th>Unnamed: 0</th>\n",
       "      <th>Name</th>\n",
       "      <th>Branch</th>\n",
       "      <th>Town</th>\n",
       "      <th>Exam</th>\n",
       "      <th>Rank_19_R1</th>\n",
       "      <th>Score_19_R1</th>\n",
       "      <th>Rank_19_R2</th>\n",
       "      <th>Score_19_R2</th>\n",
       "      <th>Rank_20_R1</th>\n",
       "      <th>...</th>\n",
       "      <th>Total Faculty</th>\n",
       "      <th>Established Year</th>\n",
       "      <th>Rating</th>\n",
       "      <th>University</th>\n",
       "      <th>Facilities</th>\n",
       "      <th>City_y</th>\n",
       "      <th>State</th>\n",
       "      <th>Country</th>\n",
       "      <th>College Type</th>\n",
       "      <th>Average Fees</th>\n",
       "    </tr>\n",
       "  </thead>\n",
       "  <tbody>\n",
       "    <tr>\n",
       "      <th>0</th>\n",
       "      <td>0</td>\n",
       "      <td>Bhartiya Vidya Bhavan's Sardar Patel Institute...</td>\n",
       "      <td>Computer Engineering</td>\n",
       "      <td>Andheri</td>\n",
       "      <td>JEE</td>\n",
       "      <td>135.0</td>\n",
       "      <td>210.0</td>\n",
       "      <td>246.0</td>\n",
       "      <td>193.0</td>\n",
       "      <td>56.0</td>\n",
       "      <td>...</td>\n",
       "      <td>NaN</td>\n",
       "      <td>NaN</td>\n",
       "      <td>3.67</td>\n",
       "      <td>NaN</td>\n",
       "      <td>NaN</td>\n",
       "      <td>NaN</td>\n",
       "      <td>NaN</td>\n",
       "      <td>NaN</td>\n",
       "      <td>NaN</td>\n",
       "      <td>NaN</td>\n",
       "    </tr>\n",
       "    <tr>\n",
       "      <th>1</th>\n",
       "      <td>1</td>\n",
       "      <td>Institute of Chemical Technology</td>\n",
       "      <td>Chemical Engineering</td>\n",
       "      <td>Matunga</td>\n",
       "      <td>JEE</td>\n",
       "      <td>256.0</td>\n",
       "      <td>192.0</td>\n",
       "      <td>391.0</td>\n",
       "      <td>179.0</td>\n",
       "      <td>637.0</td>\n",
       "      <td>...</td>\n",
       "      <td>116.0</td>\n",
       "      <td>2008.0</td>\n",
       "      <td>3.93</td>\n",
       "      <td>NaN</td>\n",
       "      <td>Boys Hostel, Girls Hostel, Gym, Library, Sport...</td>\n",
       "      <td>Mumbai</td>\n",
       "      <td>Maharashtra</td>\n",
       "      <td>India</td>\n",
       "      <td>Public/Government</td>\n",
       "      <td>189512.8205</td>\n",
       "    </tr>\n",
       "    <tr>\n",
       "      <th>2</th>\n",
       "      <td>2</td>\n",
       "      <td>Pune Institute of Computer Technology</td>\n",
       "      <td>Computer Engineering</td>\n",
       "      <td>Dhankavdi</td>\n",
       "      <td>JEE</td>\n",
       "      <td>294.0</td>\n",
       "      <td>188.0</td>\n",
       "      <td>432.0</td>\n",
       "      <td>175.0</td>\n",
       "      <td>178.0</td>\n",
       "      <td>...</td>\n",
       "      <td>NaN</td>\n",
       "      <td>NaN</td>\n",
       "      <td>3.68</td>\n",
       "      <td>NaN</td>\n",
       "      <td>NaN</td>\n",
       "      <td>NaN</td>\n",
       "      <td>NaN</td>\n",
       "      <td>NaN</td>\n",
       "      <td>NaN</td>\n",
       "      <td>NaN</td>\n",
       "    </tr>\n",
       "    <tr>\n",
       "      <th>3</th>\n",
       "      <td>3</td>\n",
       "      <td>Pune Institute of Computer Technology</td>\n",
       "      <td>Computer Engineering</td>\n",
       "      <td>Dhankavdi</td>\n",
       "      <td>JEE</td>\n",
       "      <td>294.0</td>\n",
       "      <td>188.0</td>\n",
       "      <td>432.0</td>\n",
       "      <td>175.0</td>\n",
       "      <td>178.0</td>\n",
       "      <td>...</td>\n",
       "      <td>NaN</td>\n",
       "      <td>NaN</td>\n",
       "      <td>3.98</td>\n",
       "      <td>NaN</td>\n",
       "      <td>NaN</td>\n",
       "      <td>NaN</td>\n",
       "      <td>NaN</td>\n",
       "      <td>NaN</td>\n",
       "      <td>NaN</td>\n",
       "      <td>NaN</td>\n",
       "    </tr>\n",
       "    <tr>\n",
       "      <th>4</th>\n",
       "      <td>4</td>\n",
       "      <td>Pune Institute of Computer Technology</td>\n",
       "      <td>Computer Engineering</td>\n",
       "      <td>Dhankavdi</td>\n",
       "      <td>JEE</td>\n",
       "      <td>294.0</td>\n",
       "      <td>188.0</td>\n",
       "      <td>432.0</td>\n",
       "      <td>175.0</td>\n",
       "      <td>202.0</td>\n",
       "      <td>...</td>\n",
       "      <td>NaN</td>\n",
       "      <td>NaN</td>\n",
       "      <td>3.61</td>\n",
       "      <td>NaN</td>\n",
       "      <td>NaN</td>\n",
       "      <td>NaN</td>\n",
       "      <td>NaN</td>\n",
       "      <td>NaN</td>\n",
       "      <td>NaN</td>\n",
       "      <td>NaN</td>\n",
       "    </tr>\n",
       "  </tbody>\n",
       "</table>\n",
       "<p>5 rows × 26 columns</p>\n",
       "</div>"
      ],
      "text/plain": [
       "   Unnamed: 0                                               Name  \\\n",
       "0           0  Bhartiya Vidya Bhavan's Sardar Patel Institute...   \n",
       "1           1                   Institute of Chemical Technology   \n",
       "2           2              Pune Institute of Computer Technology   \n",
       "3           3              Pune Institute of Computer Technology   \n",
       "4           4              Pune Institute of Computer Technology   \n",
       "\n",
       "                 Branch        Town Exam  Rank_19_R1  Score_19_R1  Rank_19_R2  \\\n",
       "0  Computer Engineering     Andheri  JEE       135.0        210.0       246.0   \n",
       "1  Chemical Engineering     Matunga  JEE       256.0        192.0       391.0   \n",
       "2  Computer Engineering   Dhankavdi  JEE       294.0        188.0       432.0   \n",
       "3  Computer Engineering   Dhankavdi  JEE       294.0        188.0       432.0   \n",
       "4  Computer Engineering   Dhankavdi  JEE       294.0        188.0       432.0   \n",
       "\n",
       "   Score_19_R2  Rank_20_R1  ...  Total Faculty  Established Year  Rating  \\\n",
       "0        193.0        56.0  ...            NaN               NaN    3.67   \n",
       "1        179.0       637.0  ...          116.0            2008.0    3.93   \n",
       "2        175.0       178.0  ...            NaN               NaN    3.68   \n",
       "3        175.0       178.0  ...            NaN               NaN    3.98   \n",
       "4        175.0       202.0  ...            NaN               NaN    3.61   \n",
       "\n",
       "  University                                         Facilities  City_y  \\\n",
       "0        NaN                                                NaN     NaN   \n",
       "1        NaN  Boys Hostel, Girls Hostel, Gym, Library, Sport...  Mumbai   \n",
       "2        NaN                                                NaN     NaN   \n",
       "3        NaN                                                NaN     NaN   \n",
       "4        NaN                                                NaN     NaN   \n",
       "\n",
       "         State  Country       College Type Average Fees  \n",
       "0          NaN      NaN                NaN          NaN  \n",
       "1  Maharashtra    India  Public/Government  189512.8205  \n",
       "2          NaN      NaN                NaN          NaN  \n",
       "3          NaN      NaN                NaN          NaN  \n",
       "4          NaN      NaN                NaN          NaN  \n",
       "\n",
       "[5 rows x 26 columns]"
      ]
     },
     "execution_count": 2,
     "metadata": {},
     "output_type": "execute_result"
    }
   ],
   "source": [
    "import pandas as pd\n",
    "df = pd.read_csv('database.csv')\n",
    "df.head()"
   ]
  },
  {
   "cell_type": "code",
   "execution_count": 5,
   "metadata": {},
   "outputs": [
    {
     "data": {
      "text/plain": [
       "array([nan, 'Mumbai', 'Nagpur', 'Bengaluru', 'Pune', 'New Delhi',\n",
       "       'Lavale', 'Kolhapur', 'Navi Mumbai', 'Solapur', 'Vasai', 'Ashta',\n",
       "       'Shegaon', 'Wardha', 'Poman', 'Shinde Wasti', 'Ghaziabad',\n",
       "       'Kakinada', 'Posheri', 'Aurangabad', 'Raigad', 'Nashik',\n",
       "       'Yavatmal', 'Bota', 'Sawargaon'], dtype=object)"
      ]
     },
     "execution_count": 5,
     "metadata": {},
     "output_type": "execute_result"
    }
   ],
   "source": [
    "df['City_y'].unique()"
   ]
  },
  {
   "cell_type": "code",
   "execution_count": 6,
   "metadata": {},
   "outputs": [
    {
     "name": "stdout",
     "output_type": "stream",
     "text": [
      "<class 'pandas.core.frame.DataFrame'>\n",
      "RangeIndex: 921 entries, 0 to 920\n",
      "Data columns (total 26 columns):\n",
      " #   Column                     Non-Null Count  Dtype  \n",
      "---  ------                     --------------  -----  \n",
      " 0   Unnamed: 0                 921 non-null    int64  \n",
      " 1   Name                       921 non-null    object \n",
      " 2   Branch                     921 non-null    object \n",
      " 3   Town                       916 non-null    object \n",
      " 4   Exam                       921 non-null    object \n",
      " 5   Rank_19_R1                 921 non-null    float64\n",
      " 6   Score_19_R1                921 non-null    float64\n",
      " 7   Rank_19_R2                 921 non-null    float64\n",
      " 8   Score_19_R2                921 non-null    float64\n",
      " 9   Rank_20_R1                 921 non-null    float64\n",
      " 10  Score_20_R1                921 non-null    float64\n",
      " 11  Rank_20_R2                 921 non-null    float64\n",
      " 12  Score_20_R2                921 non-null    float64\n",
      " 13  Genders Accepted           229 non-null    object \n",
      " 14  Campus Size                129 non-null    object \n",
      " 15  Total Student Enrollments  218 non-null    float64\n",
      " 16  Total Faculty              229 non-null    float64\n",
      " 17  Established Year           229 non-null    float64\n",
      " 18  Rating                     921 non-null    float64\n",
      " 19  University                 227 non-null    object \n",
      " 20  Facilities                 229 non-null    object \n",
      " 21  City_y                     229 non-null    object \n",
      " 22  State                      229 non-null    object \n",
      " 23  Country                    229 non-null    object \n",
      " 24  College Type               229 non-null    object \n",
      " 25  Average Fees               229 non-null    float64\n",
      "dtypes: float64(13), int64(1), object(12)\n",
      "memory usage: 187.2+ KB\n"
     ]
    }
   ],
   "source": [
    "df.info()"
   ]
  },
  {
   "cell_type": "code",
   "execution_count": null,
   "metadata": {},
   "outputs": [],
   "source": [
    "CollegeBranchScore = min(r1Avg, r2Avg) for brnch\n",
    "collegeScore = avg(CollBranhScore for all branches)\n",
    "\n",
    "calibrated_score = w*CollegeBranchScore + (1-w)*collegeScore\n"
   ]
  }
 ],
 "metadata": {
  "interpreter": {
   "hash": "148be82d34653dcc0aaf818b747d874446b9d01bf97e708160063c3df3e04544"
  },
  "kernelspec": {
   "display_name": "Python 3",
   "language": "python",
   "name": "python3"
  },
  "language_info": {
   "codemirror_mode": {
    "name": "ipython",
    "version": 3
   },
   "file_extension": ".py",
   "mimetype": "text/x-python",
   "name": "python",
   "nbconvert_exporter": "python",
   "pygments_lexer": "ipython3",
   "version": "3.8.3"
  }
 },
 "nbformat": 4,
 "nbformat_minor": 4
}
