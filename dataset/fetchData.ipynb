{
 "cells": [
  {
   "cell_type": "code",
   "execution_count": 1,
   "id": "right-proof",
   "metadata": {},
   "outputs": [],
   "source": [
    "import pandas as pd\n",
    "import numpy as np\n",
    "import random"
   ]
  },
  {
   "cell_type": "code",
   "execution_count": null,
   "id": "sticky-frederick",
   "metadata": {},
   "outputs": [],
   "source": [
    "cutoffs = pd.read_csv('clgBranchCutoff.csv')\n",
    "cutoffs = cutoffs.iloc[::2]\n",
    "cutoffs = cutoffs.drop(columns = ['Unnamed: 0', 'GNT2S', 'LNT2S', 'ORPHAN', 'EWS', 'TFWS', 'ABCD', 'EFGH', 'Unnamed: 16', 'Unnamed: 17'])\n",
    "cutoffs = cutoffs.iloc[:681]"
   ]
  },
  {
   "cell_type": "code",
   "execution_count": null,
   "id": "figured-toner",
   "metadata": {},
   "outputs": [],
   "source": [
    "clgBranch = pd.read_csv('clgNameBranch.csv')\n",
    "clg = clgBranch.iloc[::2]\n",
    "branch = clgBranch.iloc[1::2]\n",
    "clg = list(clg['clg'])\n",
    "branch = list(branch['clg'])\n",
    "cutoffs['ClgName'] = clg\n",
    "cutoffs['Branch'] = branch\n",
    "colnames = ['ClgName', 'Branch', 'GOPENS', 'GSCS', 'GSTS', 'GNT1S', 'GOBCS', 'LOPENS', 'LOBCS', 'PWDOPENS']\n",
    "cutoffs = cutoffs.reindex(columns=colnames)\n",
    "cutoffs\n",
    "colname = ['GOPENS', 'GSCS', 'GSTS', 'GNT1S', 'GOBCS', 'LOPENS', 'LOBCS', 'PWDOPENS']\n",
    "cutoffs = cutoffs.replace(r'\\r.*', '', regex=True)\n",
    "cutoffs = cutoffs.replace(r'.*- ', '', regex=True)\n",
    "cutoffs"
   ]
  },
  {
   "cell_type": "code",
   "execution_count": null,
   "id": "pointed-geometry",
   "metadata": {},
   "outputs": [],
   "source": [
    "cutoffs.to_csv(\"cutoffs.csv\")"
   ]
  },
  {
   "cell_type": "code",
   "execution_count": null,
   "id": "induced-institute",
   "metadata": {},
   "outputs": [],
   "source": [
    "def extract_score_rank(string):\n",
    "    info = list(string.split())\n",
    "    info[1] = info[1][1:-1]\n",
    "    return float(info[0]),float(info[1])\n",
    "\n",
    "def extract_name_town_city(sample):\n",
    "    res = sample.split(',')\n",
    "    name, town, city = '', '', ''\n",
    "    if len(res) >= 1: name = res[0]\n",
    "    if len(res) >= 2: town = res[1]\n",
    "    if len(res) >= 3: city = res[2]\n",
    "    return name, town, city\n",
    "\n",
    "\n",
    "def extraction(file_names: list, extenstions: list):\n",
    "    res = []\n",
    "    for index, file_name in enumerate(file_names):\n",
    "        table = pd.read_csv(file_name)\n",
    "\n",
    "        for i in range(table.shape[0]):\n",
    "            if str(table['Score'][i]) == \"nan\":\n",
    "                table['ClgName'][i-1] = str(table['ClgName'][i-1])\n",
    "                table['ClgName'][i-1] += \", \" + str(table['ClgName'][i])\n",
    "        table = table.replace(r'.*- ', '', regex=True)\n",
    "        table = table.replace(r'.*CET', 'MHTCET', regex=True)\n",
    "        table = table.replace(r'\\n', '', regex=True)\n",
    "\n",
    "\n",
    "        table = table.drop(columns=['ChoiceCode'])\n",
    "        table = table.dropna(subset=['Score'])\n",
    "        \n",
    "        rank = 'Rank' + extensions[index]\n",
    "        scores = 'Score' + extensions[index]\n",
    "        table[rank], table[scores] = zip(*table['Score'].map(extract_score_rank))\n",
    "        table['Name'], table['Town'], table['City'] = zip(*table['ClgName'].map(extract_name_town_city))\n",
    "        \n",
    "        table = table.replace(r'.*- ', '', regex=True)\n",
    "        \n",
    "        table = table.drop(columns=['Score', 'ClgName'])\n",
    "        table = table.reindex(columns=[rank, scores, 'Name', 'Branch', 'Town', 'City', 'Exam'])\n",
    "        res.append(table)\n",
    "    return res"
   ]
  },
  {
   "cell_type": "code",
   "execution_count": null,
   "id": "upset-nicaragua",
   "metadata": {
    "scrolled": true
   },
   "outputs": [],
   "source": [
    "file_names = ['jee19-20cap1.csv', 'jee19-20cap2.csv', 'jee20-21cap1.csv', 'jee20-21cap2.csv']\n",
    "extensions = ['_19_R1', '_19_R2', '_20_R1', '_20_R2']\n",
    "df = extraction(file_names, extensions)"
   ]
  },
  {
   "cell_type": "code",
   "execution_count": null,
   "id": "serious-advocacy",
   "metadata": {},
   "outputs": [],
   "source": [
    "merge_on = ['Name', 'Branch']\n",
    "\n",
    "res = df[0]\n",
    "for dataframe in df[1:]:\n",
    "    res = pd.merge(res, dataframe, left_on=merge_on, right_on=merge_on)\n",
    "\n",
    "res.head()"
   ]
  },
  {
   "cell_type": "code",
   "execution_count": null,
   "id": "surgical-queue",
   "metadata": {},
   "outputs": [],
   "source": [
    "res.iloc[3, :]"
   ]
  },
  {
   "cell_type": "code",
   "execution_count": null,
   "id": "widespread-compromise",
   "metadata": {
    "scrolled": false
   },
   "outputs": [],
   "source": [
    "res.iloc[4, :]"
   ]
  },
  {
   "cell_type": "code",
   "execution_count": null,
   "id": "acquired-connection",
   "metadata": {},
   "outputs": [],
   "source": [
    "colnames = [ 'Name', 'Branch', 'Town', 'City', 'Exam', 'Rank_19_R1', 'Score_19_R1',\n",
    "       'Rank_19_R2', 'Score_19_R2', 'Rank_20_R1', 'Score_20_R1', 'Rank_20_R2',\n",
    "       'Score_20_R2']\n",
    "res = res.reindex(columns=colnames)"
   ]
  },
  {
   "cell_type": "code",
   "execution_count": null,
   "id": "ranging-albert",
   "metadata": {},
   "outputs": [],
   "source": [
    "df = pd.read_csv('final.csv')\n",
    "moreinfo = pd.read_csv('moreclgdata.csv')\n",
    "moreinfo.drop(moreinfo.iloc[:, 15:],inplace=True, axis=1)\n",
    "df = pd.merge(df, moreinfo, left_on='Name', right_on='Name')\n",
    "df = df.drop(columns=['Courses', 'City_x'])"
   ]
  },
  {
   "cell_type": "code",
   "execution_count": null,
   "id": "cubic-durham",
   "metadata": {},
   "outputs": [],
   "source": [
    "df.info()"
   ]
  },
  {
   "cell_type": "code",
   "execution_count": null,
   "id": "interpreted-contribution",
   "metadata": {},
   "outputs": [],
   "source": [
    "df['Rating'] = df['Rating'].astype(float)\n",
    "df['Rating'][:5]"
   ]
  },
  {
   "cell_type": "code",
   "execution_count": null,
   "id": "backed-ground",
   "metadata": {},
   "outputs": [],
   "source": [
    "# def assign_ratings(sample, index):\n",
    "#     if sample: return sample\n",
    "    \n",
    "#     rank = df['Rank_20_R1'][index]\n",
    "#     if rank < 400: df['Rating'] = random.uniform(3.5, 4)\n",
    "#     elif rank < 800: df['Rating'] = random.uniform(3, 3.5)\n",
    "#     elif rank < 1200: df['Rating'] = random.uniform(2.5, 3)\n",
    "#     elif rank < 5000: df['Rating'] = random.uniform(2, 2.5)\n",
    "#     else: df['Rating'] = random.uniform(1, 2)\n",
    "    \n",
    "for i in range(df.shape[0]):\n",
    "    rank = df['Rank_20_R1'][i]\n",
    "    if rank < 700: df['Rating'][i] = random.uniform(3.5, 4)\n",
    "    elif rank < 1100: df['Rating'][i] = random.uniform(3, 3.5)\n",
    "    elif rank < 2000: df['Rating'][i] = random.uniform(2.5, 3)\n",
    "    elif rank < 5000: df['Rating'][i] = random.uniform(2, 2.5)\n",
    "    else: df['Rating'][i] = random.uniform(1, 2)\n",
    "    \n",
    "df = df.round({'Rating':2})"
   ]
  },
  {
   "cell_type": "code",
   "execution_count": null,
   "id": "essential-offense",
   "metadata": {},
   "outputs": [],
   "source": [
    "df.head()"
   ]
  },
  {
   "cell_type": "code",
   "execution_count": null,
   "id": "later-sodium",
   "metadata": {},
   "outputs": [],
   "source": [
    "df.info()"
   ]
  },
  {
   "cell_type": "code",
   "execution_count": null,
   "id": "social-boulder",
   "metadata": {},
   "outputs": [],
   "source": [
    "df.to_csv('database.csv')"
   ]
  },
  {
   "cell_type": "code",
   "execution_count": null,
   "id": "empty-lindsay",
   "metadata": {},
   "outputs": [],
   "source": []
  },
  {
   "cell_type": "code",
   "execution_count": null,
   "id": "satisfied-ireland",
   "metadata": {},
   "outputs": [],
   "source": [
    "df[0].head()"
   ]
  },
  {
   "cell_type": "code",
   "execution_count": null,
   "id": "following-harvey",
   "metadata": {},
   "outputs": [],
   "source": [
    "df[1].head()"
   ]
  },
  {
   "cell_type": "code",
   "execution_count": null,
   "id": "taken-statement",
   "metadata": {},
   "outputs": [],
   "source": [
    "res.columns"
   ]
  },
  {
   "cell_type": "code",
   "execution_count": null,
   "id": "nominated-vienna",
   "metadata": {},
   "outputs": [],
   "source": [
    "res.head()"
   ]
  },
  {
   "cell_type": "code",
   "execution_count": null,
   "id": "micro-model",
   "metadata": {},
   "outputs": [],
   "source": [
    "res.info()"
   ]
  },
  {
   "cell_type": "code",
   "execution_count": null,
   "id": "intense-drilling",
   "metadata": {},
   "outputs": [],
   "source": [
    "res.to_csv('final.csv')"
   ]
  },
  {
   "cell_type": "code",
   "execution_count": null,
   "id": "polyphonic-lebanon",
   "metadata": {},
   "outputs": [],
   "source": []
  }
 ],
 "metadata": {
  "kernelspec": {
   "display_name": "Python 3",
   "language": "python",
   "name": "python3"
  },
  "language_info": {
   "codemirror_mode": {
    "name": "ipython",
    "version": 3
   },
   "file_extension": ".py",
   "mimetype": "text/x-python",
   "name": "python",
   "nbconvert_exporter": "python",
   "pygments_lexer": "ipython3",
   "version": "3.6.13"
  }
 },
 "nbformat": 4,
 "nbformat_minor": 5
}
