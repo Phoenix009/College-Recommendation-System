{
 "cells": [
  {
   "cell_type": "code",
   "execution_count": 1,
   "metadata": {},
   "outputs": [],
   "source": [
    "import pandas as pd\n",
    "import numpy as np\n",
    "import random"
   ]
  },
  {
   "cell_type": "code",
   "execution_count": null,
   "metadata": {},
   "outputs": [],
   "source": [
    "cutoffs = pd.read_csv('clgBranchCutoff.csv')\n",
    "cutoffs = cutoffs.iloc[::2]\n",
    "cutoffs = cutoffs.drop(columns = ['Unnamed: 0', 'GNT2S', 'LNT2S', 'ORPHAN', 'EWS', 'TFWS', 'ABCD', 'EFGH', 'Unnamed: 16', 'Unnamed: 17'])\n",
    "cutoffs = cutoffs.iloc[:681]"
   ]
  },
  {
   "cell_type": "code",
   "execution_count": null,
   "metadata": {},
   "outputs": [],
   "source": [
    "clgBranch = pd.read_csv('clgNameBranch.csv')\n",
    "clg = clgBranch.iloc[::2]\n",
    "branch = clgBranch.iloc[1::2]\n",
    "clg = list(clg['clg'])\n",
    "branch = list(branch['clg'])\n",
    "cutoffs['ClgName'] = clg\n",
    "cutoffs['Branch'] = branch\n",
    "colnames = ['ClgName', 'Branch', 'GOPENS', 'GSCS', 'GSTS', 'GNT1S', 'GOBCS', 'LOPENS', 'LOBCS', 'PWDOPENS']\n",
    "cutoffs = cutoffs.reindex(columns=colnames)\n",
    "cutoffs\n",
    "colname = ['GOPENS', 'GSCS', 'GSTS', 'GNT1S', 'GOBCS', 'LOPENS', 'LOBCS', 'PWDOPENS']\n",
    "cutoffs = cutoffs.replace(r'\\r.*', '', regex=True)\n",
    "cutoffs = cutoffs.replace(r'.*- ', '', regex=True)\n",
    "cutoffs"
   ]
  },
  {
   "cell_type": "code",
   "execution_count": null,
   "metadata": {},
   "outputs": [],
   "source": [
    "cutoffs.to_csv(\"cutoffs.csv\")"
   ]
  },
  {
   "cell_type": "code",
   "execution_count": null,
   "metadata": {},
   "outputs": [],
   "source": [
    "def extract_score_rank(string):\n",
    "    info = list(string.split())\n",
    "    info[1] = info[1][1:-1]\n",
    "    return float(info[0]),float(info[1])\n",
    "\n",
    "def extract_name_town_city(sample):\n",
    "    res = sample.split(',')\n",
    "    name, town, city = '', '', ''\n",
    "    if len(res) >= 1: name = res[0]\n",
    "    if len(res) >= 2: town = res[1]\n",
    "    if len(res) >= 3: city = res[2]\n",
    "    return name, town, city\n",
    "\n",
    "\n",
    "def extraction(file_names: list, extenstions: list):\n",
    "    res = []\n",
    "    for index, file_name in enumerate(file_names):\n",
    "        table = pd.read_csv(file_name)\n",
    "\n",
    "        for i in range(table.shape[0]):\n",
    "            if str(table['Score'][i]) == \"nan\":\n",
    "                table['ClgName'][i-1] = str(table['ClgName'][i-1])\n",
    "                table['ClgName'][i-1] += \", \" + str(table['ClgName'][i])\n",
    "        table = table.replace(r'.*- ', '', regex=True)\n",
    "        table = table.replace(r'.*CET', 'MHTCET', regex=True)\n",
    "        table = table.replace(r'\\n', '', regex=True)\n",
    "\n",
    "\n",
    "        table = table.drop(columns=['ChoiceCode'])\n",
    "        table = table.dropna(subset=['Score'])\n",
    "        \n",
    "        rank = 'Rank' + extensions[index]\n",
    "        scores = 'Score' + extensions[index]\n",
    "        table[rank], table[scores] = zip(*table['Score'].map(extract_score_rank))\n",
    "        table['Name'], table['Town'], table['City'] = zip(*table['ClgName'].map(extract_name_town_city))\n",
    "        \n",
    "        table = table.replace(r'.*- ', '', regex=True)\n",
    "        \n",
    "        table = table.drop(columns=['Score', 'ClgName'])\n",
    "        table = table.reindex(columns=[rank, scores, 'Name', 'Branch', 'Town', 'City', 'Exam'])\n",
    "        res.append(table)\n",
    "    return res"
   ]
  },
  {
   "cell_type": "code",
   "execution_count": null,
   "metadata": {
    "scrolled": true
   },
   "outputs": [],
   "source": [
    "file_names = ['jee19-20cap1.csv', 'jee19-20cap2.csv', 'jee20-21cap1.csv', 'jee20-21cap2.csv']\n",
    "extensions = ['_19_R1', '_19_R2', '_20_R1', '_20_R2']\n",
    "df = extraction(file_names, extensions)"
   ]
  },
  {
   "cell_type": "code",
   "execution_count": null,
   "metadata": {},
   "outputs": [],
   "source": [
    "merge_on = ['Name', 'Branch']\n",
    "\n",
    "res = df[0]\n",
    "for dataframe in df[1:]:\n",
    "    res = pd.merge(res, dataframe, left_on=merge_on, right_on=merge_on)\n",
    "\n",
    "res.head()"
   ]
  },
  {
   "cell_type": "code",
   "execution_count": null,
   "metadata": {},
   "outputs": [],
   "source": [
    "res.iloc[3, :]"
   ]
  },
  {
   "cell_type": "code",
   "execution_count": null,
   "metadata": {
    "scrolled": false
   },
   "outputs": [],
   "source": [
    "res.iloc[4, :]"
   ]
  },
  {
   "cell_type": "code",
   "execution_count": null,
   "metadata": {},
   "outputs": [],
   "source": [
    "colnames = [ 'Name', 'Branch', 'Town', 'City', 'Exam', 'Rank_19_R1', 'Score_19_R1',\n",
    "       'Rank_19_R2', 'Score_19_R2', 'Rank_20_R1', 'Score_20_R1', 'Rank_20_R2',\n",
    "       'Score_20_R2']\n",
    "res = res.reindex(columns=colnames)"
   ]
  },
  {
   "cell_type": "code",
   "execution_count": null,
   "metadata": {},
   "outputs": [],
   "source": [
    "df = pd.read_csv('final.csv')\n",
    "moreinfo = pd.read_csv('moreclgdata.csv')\n",
    "moreinfo.drop(moreinfo.iloc[:, 15:],inplace=True, axis=1)\n",
    "df = pd.merge(df, moreinfo, left_on='Name', right_on='Name')\n",
    "df = df.drop(columns=['Courses', 'City_x'])"
   ]
  },
  {
   "cell_type": "code",
   "execution_count": null,
   "metadata": {},
   "outputs": [],
   "source": [
    "df.info()"
   ]
  },
  {
   "cell_type": "code",
   "execution_count": null,
   "metadata": {},
   "outputs": [],
   "source": [
    "df['Rating'] = df['Rating'].astype(float)\n",
    "df['Rating'][:5]"
   ]
  },
  {
   "cell_type": "code",
   "execution_count": null,
   "metadata": {},
   "outputs": [],
   "source": [
    "# def assign_ratings(sample, index):\n",
    "#     if sample: return sample\n",
    "    \n",
    "#     rank = df['Rank_20_R1'][index]\n",
    "#     if rank < 400: df['Rating'] = random.uniform(3.5, 4)\n",
    "#     elif rank < 800: df['Rating'] = random.uniform(3, 3.5)\n",
    "#     elif rank < 1200: df['Rating'] = random.uniform(2.5, 3)\n",
    "#     elif rank < 5000: df['Rating'] = random.uniform(2, 2.5)\n",
    "#     else: df['Rating'] = random.uniform(1, 2)\n",
    "    \n",
    "for i in range(df.shape[0]):\n",
    "    rank = df['Rank_20_R1'][i]\n",
    "    if rank < 700: df['Rating'][i] = random.uniform(3.5, 4)\n",
    "    elif rank < 1100: df['Rating'][i] = random.uniform(3, 3.5)\n",
    "    elif rank < 2000: df['Rating'][i] = random.uniform(2.5, 3)\n",
    "    elif rank < 5000: df['Rating'][i] = random.uniform(2, 2.5)\n",
    "    else: df['Rating'][i] = random.uniform(1, 2)\n",
    "    \n",
    "df = df.round({'Rating':2})"
   ]
  },
  {
   "cell_type": "code",
   "execution_count": 7,
   "metadata": {},
   "outputs": [
    {
     "data": {
      "text/html": [
       "<div>\n",
       "<style scoped>\n",
       "    .dataframe tbody tr th:only-of-type {\n",
       "        vertical-align: middle;\n",
       "    }\n",
       "\n",
       "    .dataframe tbody tr th {\n",
       "        vertical-align: top;\n",
       "    }\n",
       "\n",
       "    .dataframe thead th {\n",
       "        text-align: right;\n",
       "    }\n",
       "</style>\n",
       "<table border=\"1\" class=\"dataframe\">\n",
       "  <thead>\n",
       "    <tr style=\"text-align: right;\">\n",
       "      <th></th>\n",
       "      <th>Unnamed: 0</th>\n",
       "      <th>Name</th>\n",
       "      <th>Branch</th>\n",
       "      <th>Town</th>\n",
       "      <th>City</th>\n",
       "      <th>Exam</th>\n",
       "      <th>Rank_19_R1</th>\n",
       "      <th>Score_19_R1</th>\n",
       "      <th>Rank_19_R2</th>\n",
       "      <th>Score_19_R2</th>\n",
       "      <th>Rank_20_R1</th>\n",
       "      <th>Score_20_R1</th>\n",
       "      <th>Rank_20_R2</th>\n",
       "      <th>Score_20_R2</th>\n",
       "    </tr>\n",
       "  </thead>\n",
       "  <tbody>\n",
       "    <tr>\n",
       "      <th>0</th>\n",
       "      <td>0</td>\n",
       "      <td>Bhartiya Vidya Bhavan's Sardar Patel Institute...</td>\n",
       "      <td>Computer Engineering</td>\n",
       "      <td>Andheri</td>\n",
       "      <td>Mumbai</td>\n",
       "      <td>JEE</td>\n",
       "      <td>135.0</td>\n",
       "      <td>210.0</td>\n",
       "      <td>246.0</td>\n",
       "      <td>193.0</td>\n",
       "      <td>56.0</td>\n",
       "      <td>99.141446</td>\n",
       "      <td>82.0</td>\n",
       "      <td>98.892342</td>\n",
       "    </tr>\n",
       "    <tr>\n",
       "      <th>1</th>\n",
       "      <td>1</td>\n",
       "      <td>Institute of Chemical Technology</td>\n",
       "      <td>Chemical Engineering</td>\n",
       "      <td>Matunga</td>\n",
       "      <td>Mumbai</td>\n",
       "      <td>JEE</td>\n",
       "      <td>256.0</td>\n",
       "      <td>192.0</td>\n",
       "      <td>391.0</td>\n",
       "      <td>179.0</td>\n",
       "      <td>637.0</td>\n",
       "      <td>96.854491</td>\n",
       "      <td>764.0</td>\n",
       "      <td>96.520155</td>\n",
       "    </tr>\n",
       "    <tr>\n",
       "      <th>2</th>\n",
       "      <td>2</td>\n",
       "      <td>Pune Institute of Computer Technology</td>\n",
       "      <td>Computer Engineering</td>\n",
       "      <td>Dhankavdi</td>\n",
       "      <td>Pune</td>\n",
       "      <td>JEE</td>\n",
       "      <td>294.0</td>\n",
       "      <td>188.0</td>\n",
       "      <td>432.0</td>\n",
       "      <td>175.0</td>\n",
       "      <td>178.0</td>\n",
       "      <td>98.403871</td>\n",
       "      <td>215.0</td>\n",
       "      <td>98.257849</td>\n",
       "    </tr>\n",
       "    <tr>\n",
       "      <th>3</th>\n",
       "      <td>3</td>\n",
       "      <td>Pune Institute of Computer Technology</td>\n",
       "      <td>Computer Engineering</td>\n",
       "      <td>Dhankavdi</td>\n",
       "      <td>Pune</td>\n",
       "      <td>JEE</td>\n",
       "      <td>294.0</td>\n",
       "      <td>188.0</td>\n",
       "      <td>432.0</td>\n",
       "      <td>175.0</td>\n",
       "      <td>178.0</td>\n",
       "      <td>98.403871</td>\n",
       "      <td>265.0</td>\n",
       "      <td>98.069304</td>\n",
       "    </tr>\n",
       "    <tr>\n",
       "      <th>4</th>\n",
       "      <td>4</td>\n",
       "      <td>Pune Institute of Computer Technology</td>\n",
       "      <td>Computer Engineering</td>\n",
       "      <td>Dhankavdi</td>\n",
       "      <td>Pune</td>\n",
       "      <td>JEE</td>\n",
       "      <td>294.0</td>\n",
       "      <td>188.0</td>\n",
       "      <td>432.0</td>\n",
       "      <td>175.0</td>\n",
       "      <td>202.0</td>\n",
       "      <td>98.301492</td>\n",
       "      <td>215.0</td>\n",
       "      <td>98.257849</td>\n",
       "    </tr>\n",
       "  </tbody>\n",
       "</table>\n",
       "</div>"
      ],
      "text/plain": [
       "   Unnamed: 0                                               Name  \\\n",
       "0           0  Bhartiya Vidya Bhavan's Sardar Patel Institute...   \n",
       "1           1                   Institute of Chemical Technology   \n",
       "2           2              Pune Institute of Computer Technology   \n",
       "3           3              Pune Institute of Computer Technology   \n",
       "4           4              Pune Institute of Computer Technology   \n",
       "\n",
       "                 Branch        Town     City Exam  Rank_19_R1  Score_19_R1  \\\n",
       "0  Computer Engineering     Andheri   Mumbai  JEE       135.0        210.0   \n",
       "1  Chemical Engineering     Matunga   Mumbai  JEE       256.0        192.0   \n",
       "2  Computer Engineering   Dhankavdi     Pune  JEE       294.0        188.0   \n",
       "3  Computer Engineering   Dhankavdi     Pune  JEE       294.0        188.0   \n",
       "4  Computer Engineering   Dhankavdi     Pune  JEE       294.0        188.0   \n",
       "\n",
       "   Rank_19_R2  Score_19_R2  Rank_20_R1  Score_20_R1  Rank_20_R2  Score_20_R2  \n",
       "0       246.0        193.0        56.0    99.141446        82.0    98.892342  \n",
       "1       391.0        179.0       637.0    96.854491       764.0    96.520155  \n",
       "2       432.0        175.0       178.0    98.403871       215.0    98.257849  \n",
       "3       432.0        175.0       178.0    98.403871       265.0    98.069304  \n",
       "4       432.0        175.0       202.0    98.301492       215.0    98.257849  "
      ]
     },
     "execution_count": 7,
     "metadata": {},
     "output_type": "execute_result"
    }
   ],
   "source": [
    "import pandas as pd\n",
    "df = pd.read_csv('final.csv')\n",
    "df.head()"
   ]
  },
  {
   "cell_type": "code",
   "execution_count": 8,
   "metadata": {},
   "outputs": [
    {
     "ename": "KeyError",
     "evalue": "'Exam'",
     "output_type": "error",
     "traceback": [
      "\u001b[0;31m---------------------------------------------------------------------------\u001b[0m",
      "\u001b[0;31mKeyError\u001b[0m                                  Traceback (most recent call last)",
      "\u001b[0;32m<ipython-input-8-04bd72d3cb38>\u001b[0m in \u001b[0;36m<module>\u001b[0;34m\u001b[0m\n\u001b[1;32m      1\u001b[0m \u001b[0mtest\u001b[0m \u001b[0;34m=\u001b[0m \u001b[0;32mlambda\u001b[0m \u001b[0mx\u001b[0m\u001b[0;34m:\u001b[0m \u001b[0mprint\u001b[0m\u001b[0;34m(\u001b[0m\u001b[0mx\u001b[0m\u001b[0;34m[\u001b[0m\u001b[0;34m'Exam'\u001b[0m\u001b[0;34m]\u001b[0m\u001b[0;34m,\u001b[0m \u001b[0mx\u001b[0m\u001b[0;34m[\u001b[0m\u001b[0;34m'Name'\u001b[0m\u001b[0;34m]\u001b[0m\u001b[0;34m)\u001b[0m\u001b[0;34m\u001b[0m\u001b[0;34m\u001b[0m\u001b[0m\n\u001b[0;32m----> 2\u001b[0;31m \u001b[0mdf\u001b[0m\u001b[0;34m.\u001b[0m\u001b[0mapply\u001b[0m\u001b[0;34m(\u001b[0m\u001b[0mtest\u001b[0m\u001b[0;34m)\u001b[0m\u001b[0;34m\u001b[0m\u001b[0;34m\u001b[0m\u001b[0m\n\u001b[0m",
      "\u001b[0;32m~/.local/lib/python3.8/site-packages/pandas/core/frame.py\u001b[0m in \u001b[0;36mapply\u001b[0;34m(self, func, axis, raw, result_type, args, **kwds)\u001b[0m\n\u001b[1;32m   7763\u001b[0m             \u001b[0mkwds\u001b[0m\u001b[0;34m=\u001b[0m\u001b[0mkwds\u001b[0m\u001b[0;34m,\u001b[0m\u001b[0;34m\u001b[0m\u001b[0;34m\u001b[0m\u001b[0m\n\u001b[1;32m   7764\u001b[0m         )\n\u001b[0;32m-> 7765\u001b[0;31m         \u001b[0;32mreturn\u001b[0m \u001b[0mop\u001b[0m\u001b[0;34m.\u001b[0m\u001b[0mget_result\u001b[0m\u001b[0;34m(\u001b[0m\u001b[0;34m)\u001b[0m\u001b[0;34m\u001b[0m\u001b[0;34m\u001b[0m\u001b[0m\n\u001b[0m\u001b[1;32m   7766\u001b[0m \u001b[0;34m\u001b[0m\u001b[0m\n\u001b[1;32m   7767\u001b[0m     \u001b[0;32mdef\u001b[0m \u001b[0mapplymap\u001b[0m\u001b[0;34m(\u001b[0m\u001b[0mself\u001b[0m\u001b[0;34m,\u001b[0m \u001b[0mfunc\u001b[0m\u001b[0;34m,\u001b[0m \u001b[0mna_action\u001b[0m\u001b[0;34m:\u001b[0m \u001b[0mOptional\u001b[0m\u001b[0;34m[\u001b[0m\u001b[0mstr\u001b[0m\u001b[0;34m]\u001b[0m \u001b[0;34m=\u001b[0m \u001b[0;32mNone\u001b[0m\u001b[0;34m)\u001b[0m \u001b[0;34m->\u001b[0m \u001b[0mDataFrame\u001b[0m\u001b[0;34m:\u001b[0m\u001b[0;34m\u001b[0m\u001b[0;34m\u001b[0m\u001b[0m\n",
      "\u001b[0;32m~/.local/lib/python3.8/site-packages/pandas/core/apply.py\u001b[0m in \u001b[0;36mget_result\u001b[0;34m(self)\u001b[0m\n\u001b[1;32m    183\u001b[0m             \u001b[0;32mreturn\u001b[0m \u001b[0mself\u001b[0m\u001b[0;34m.\u001b[0m\u001b[0mapply_raw\u001b[0m\u001b[0;34m(\u001b[0m\u001b[0;34m)\u001b[0m\u001b[0;34m\u001b[0m\u001b[0;34m\u001b[0m\u001b[0m\n\u001b[1;32m    184\u001b[0m \u001b[0;34m\u001b[0m\u001b[0m\n\u001b[0;32m--> 185\u001b[0;31m         \u001b[0;32mreturn\u001b[0m \u001b[0mself\u001b[0m\u001b[0;34m.\u001b[0m\u001b[0mapply_standard\u001b[0m\u001b[0;34m(\u001b[0m\u001b[0;34m)\u001b[0m\u001b[0;34m\u001b[0m\u001b[0;34m\u001b[0m\u001b[0m\n\u001b[0m\u001b[1;32m    186\u001b[0m \u001b[0;34m\u001b[0m\u001b[0m\n\u001b[1;32m    187\u001b[0m     \u001b[0;32mdef\u001b[0m \u001b[0mapply_empty_result\u001b[0m\u001b[0;34m(\u001b[0m\u001b[0mself\u001b[0m\u001b[0;34m)\u001b[0m\u001b[0;34m:\u001b[0m\u001b[0;34m\u001b[0m\u001b[0;34m\u001b[0m\u001b[0m\n",
      "\u001b[0;32m~/.local/lib/python3.8/site-packages/pandas/core/apply.py\u001b[0m in \u001b[0;36mapply_standard\u001b[0;34m(self)\u001b[0m\n\u001b[1;32m    274\u001b[0m \u001b[0;34m\u001b[0m\u001b[0m\n\u001b[1;32m    275\u001b[0m     \u001b[0;32mdef\u001b[0m \u001b[0mapply_standard\u001b[0m\u001b[0;34m(\u001b[0m\u001b[0mself\u001b[0m\u001b[0;34m)\u001b[0m\u001b[0;34m:\u001b[0m\u001b[0;34m\u001b[0m\u001b[0;34m\u001b[0m\u001b[0m\n\u001b[0;32m--> 276\u001b[0;31m         \u001b[0mresults\u001b[0m\u001b[0;34m,\u001b[0m \u001b[0mres_index\u001b[0m \u001b[0;34m=\u001b[0m \u001b[0mself\u001b[0m\u001b[0;34m.\u001b[0m\u001b[0mapply_series_generator\u001b[0m\u001b[0;34m(\u001b[0m\u001b[0;34m)\u001b[0m\u001b[0;34m\u001b[0m\u001b[0;34m\u001b[0m\u001b[0m\n\u001b[0m\u001b[1;32m    277\u001b[0m \u001b[0;34m\u001b[0m\u001b[0m\n\u001b[1;32m    278\u001b[0m         \u001b[0;31m# wrap results\u001b[0m\u001b[0;34m\u001b[0m\u001b[0;34m\u001b[0m\u001b[0;34m\u001b[0m\u001b[0m\n",
      "\u001b[0;32m~/.local/lib/python3.8/site-packages/pandas/core/apply.py\u001b[0m in \u001b[0;36mapply_series_generator\u001b[0;34m(self)\u001b[0m\n\u001b[1;32m    288\u001b[0m             \u001b[0;32mfor\u001b[0m \u001b[0mi\u001b[0m\u001b[0;34m,\u001b[0m \u001b[0mv\u001b[0m \u001b[0;32min\u001b[0m \u001b[0menumerate\u001b[0m\u001b[0;34m(\u001b[0m\u001b[0mseries_gen\u001b[0m\u001b[0;34m)\u001b[0m\u001b[0;34m:\u001b[0m\u001b[0;34m\u001b[0m\u001b[0;34m\u001b[0m\u001b[0m\n\u001b[1;32m    289\u001b[0m                 \u001b[0;31m# ignore SettingWithCopy here in case the user mutates\u001b[0m\u001b[0;34m\u001b[0m\u001b[0;34m\u001b[0m\u001b[0;34m\u001b[0m\u001b[0m\n\u001b[0;32m--> 290\u001b[0;31m                 \u001b[0mresults\u001b[0m\u001b[0;34m[\u001b[0m\u001b[0mi\u001b[0m\u001b[0;34m]\u001b[0m \u001b[0;34m=\u001b[0m \u001b[0mself\u001b[0m\u001b[0;34m.\u001b[0m\u001b[0mf\u001b[0m\u001b[0;34m(\u001b[0m\u001b[0mv\u001b[0m\u001b[0;34m)\u001b[0m\u001b[0;34m\u001b[0m\u001b[0;34m\u001b[0m\u001b[0m\n\u001b[0m\u001b[1;32m    291\u001b[0m                 \u001b[0;32mif\u001b[0m \u001b[0misinstance\u001b[0m\u001b[0;34m(\u001b[0m\u001b[0mresults\u001b[0m\u001b[0;34m[\u001b[0m\u001b[0mi\u001b[0m\u001b[0;34m]\u001b[0m\u001b[0;34m,\u001b[0m \u001b[0mABCSeries\u001b[0m\u001b[0;34m)\u001b[0m\u001b[0;34m:\u001b[0m\u001b[0;34m\u001b[0m\u001b[0;34m\u001b[0m\u001b[0m\n\u001b[1;32m    292\u001b[0m                     \u001b[0;31m# If we have a view on v, we need to make a copy because\u001b[0m\u001b[0;34m\u001b[0m\u001b[0;34m\u001b[0m\u001b[0;34m\u001b[0m\u001b[0m\n",
      "\u001b[0;32m<ipython-input-8-04bd72d3cb38>\u001b[0m in \u001b[0;36m<lambda>\u001b[0;34m(x)\u001b[0m\n\u001b[0;32m----> 1\u001b[0;31m \u001b[0mtest\u001b[0m \u001b[0;34m=\u001b[0m \u001b[0;32mlambda\u001b[0m \u001b[0mx\u001b[0m\u001b[0;34m:\u001b[0m \u001b[0mprint\u001b[0m\u001b[0;34m(\u001b[0m\u001b[0mx\u001b[0m\u001b[0;34m[\u001b[0m\u001b[0;34m'Exam'\u001b[0m\u001b[0;34m]\u001b[0m\u001b[0;34m,\u001b[0m \u001b[0mx\u001b[0m\u001b[0;34m[\u001b[0m\u001b[0;34m'Name'\u001b[0m\u001b[0;34m]\u001b[0m\u001b[0;34m)\u001b[0m\u001b[0;34m\u001b[0m\u001b[0;34m\u001b[0m\u001b[0m\n\u001b[0m\u001b[1;32m      2\u001b[0m \u001b[0mdf\u001b[0m\u001b[0;34m.\u001b[0m\u001b[0mapply\u001b[0m\u001b[0;34m(\u001b[0m\u001b[0mtest\u001b[0m\u001b[0;34m)\u001b[0m\u001b[0;34m\u001b[0m\u001b[0;34m\u001b[0m\u001b[0m\n",
      "\u001b[0;32m~/.local/lib/python3.8/site-packages/pandas/core/series.py\u001b[0m in \u001b[0;36m__getitem__\u001b[0;34m(self, key)\u001b[0m\n\u001b[1;32m    822\u001b[0m \u001b[0;34m\u001b[0m\u001b[0m\n\u001b[1;32m    823\u001b[0m         \u001b[0;32melif\u001b[0m \u001b[0mkey_is_scalar\u001b[0m\u001b[0;34m:\u001b[0m\u001b[0;34m\u001b[0m\u001b[0;34m\u001b[0m\u001b[0m\n\u001b[0;32m--> 824\u001b[0;31m             \u001b[0;32mreturn\u001b[0m \u001b[0mself\u001b[0m\u001b[0;34m.\u001b[0m\u001b[0m_get_value\u001b[0m\u001b[0;34m(\u001b[0m\u001b[0mkey\u001b[0m\u001b[0;34m)\u001b[0m\u001b[0;34m\u001b[0m\u001b[0;34m\u001b[0m\u001b[0m\n\u001b[0m\u001b[1;32m    825\u001b[0m \u001b[0;34m\u001b[0m\u001b[0m\n\u001b[1;32m    826\u001b[0m         \u001b[0;32mif\u001b[0m \u001b[0mis_hashable\u001b[0m\u001b[0;34m(\u001b[0m\u001b[0mkey\u001b[0m\u001b[0;34m)\u001b[0m\u001b[0;34m:\u001b[0m\u001b[0;34m\u001b[0m\u001b[0;34m\u001b[0m\u001b[0m\n",
      "\u001b[0;32m~/.local/lib/python3.8/site-packages/pandas/core/series.py\u001b[0m in \u001b[0;36m_get_value\u001b[0;34m(self, label, takeable)\u001b[0m\n\u001b[1;32m    930\u001b[0m \u001b[0;34m\u001b[0m\u001b[0m\n\u001b[1;32m    931\u001b[0m         \u001b[0;31m# Similar to Index.get_value, but we do not fall back to positional\u001b[0m\u001b[0;34m\u001b[0m\u001b[0;34m\u001b[0m\u001b[0;34m\u001b[0m\u001b[0m\n\u001b[0;32m--> 932\u001b[0;31m         \u001b[0mloc\u001b[0m \u001b[0;34m=\u001b[0m \u001b[0mself\u001b[0m\u001b[0;34m.\u001b[0m\u001b[0mindex\u001b[0m\u001b[0;34m.\u001b[0m\u001b[0mget_loc\u001b[0m\u001b[0;34m(\u001b[0m\u001b[0mlabel\u001b[0m\u001b[0;34m)\u001b[0m\u001b[0;34m\u001b[0m\u001b[0;34m\u001b[0m\u001b[0m\n\u001b[0m\u001b[1;32m    933\u001b[0m         \u001b[0;32mreturn\u001b[0m \u001b[0mself\u001b[0m\u001b[0;34m.\u001b[0m\u001b[0mindex\u001b[0m\u001b[0;34m.\u001b[0m\u001b[0m_get_values_for_loc\u001b[0m\u001b[0;34m(\u001b[0m\u001b[0mself\u001b[0m\u001b[0;34m,\u001b[0m \u001b[0mloc\u001b[0m\u001b[0;34m,\u001b[0m \u001b[0mlabel\u001b[0m\u001b[0;34m)\u001b[0m\u001b[0;34m\u001b[0m\u001b[0;34m\u001b[0m\u001b[0m\n\u001b[1;32m    934\u001b[0m \u001b[0;34m\u001b[0m\u001b[0m\n",
      "\u001b[0;32m~/.local/lib/python3.8/site-packages/pandas/core/indexes/range.py\u001b[0m in \u001b[0;36mget_loc\u001b[0;34m(self, key, method, tolerance)\u001b[0m\n\u001b[1;32m    352\u001b[0m                 \u001b[0;32mexcept\u001b[0m \u001b[0mValueError\u001b[0m \u001b[0;32mas\u001b[0m \u001b[0merr\u001b[0m\u001b[0;34m:\u001b[0m\u001b[0;34m\u001b[0m\u001b[0;34m\u001b[0m\u001b[0m\n\u001b[1;32m    353\u001b[0m                     \u001b[0;32mraise\u001b[0m \u001b[0mKeyError\u001b[0m\u001b[0;34m(\u001b[0m\u001b[0mkey\u001b[0m\u001b[0;34m)\u001b[0m \u001b[0;32mfrom\u001b[0m \u001b[0merr\u001b[0m\u001b[0;34m\u001b[0m\u001b[0;34m\u001b[0m\u001b[0m\n\u001b[0;32m--> 354\u001b[0;31m             \u001b[0;32mraise\u001b[0m \u001b[0mKeyError\u001b[0m\u001b[0;34m(\u001b[0m\u001b[0mkey\u001b[0m\u001b[0;34m)\u001b[0m\u001b[0;34m\u001b[0m\u001b[0;34m\u001b[0m\u001b[0m\n\u001b[0m\u001b[1;32m    355\u001b[0m         \u001b[0;32mreturn\u001b[0m \u001b[0msuper\u001b[0m\u001b[0;34m(\u001b[0m\u001b[0;34m)\u001b[0m\u001b[0;34m.\u001b[0m\u001b[0mget_loc\u001b[0m\u001b[0;34m(\u001b[0m\u001b[0mkey\u001b[0m\u001b[0;34m,\u001b[0m \u001b[0mmethod\u001b[0m\u001b[0;34m=\u001b[0m\u001b[0mmethod\u001b[0m\u001b[0;34m,\u001b[0m \u001b[0mtolerance\u001b[0m\u001b[0;34m=\u001b[0m\u001b[0mtolerance\u001b[0m\u001b[0;34m)\u001b[0m\u001b[0;34m\u001b[0m\u001b[0;34m\u001b[0m\u001b[0m\n\u001b[1;32m    356\u001b[0m \u001b[0;34m\u001b[0m\u001b[0m\n",
      "\u001b[0;31mKeyError\u001b[0m: 'Exam'"
     ]
    }
   ],
   "source": [
    "test = lambda x: print(x['Exam'], x['Name'])\n",
    "df.apply(test)"
   ]
  },
  {
   "cell_type": "code",
   "execution_count": null,
   "metadata": {},
   "outputs": [],
   "source": []
  },
  {
   "cell_type": "code",
   "execution_count": null,
   "metadata": {},
   "outputs": [],
   "source": []
  }
 ],
 "metadata": {
  "kernelspec": {
   "display_name": "Python 3",
   "language": "python",
   "name": "python3"
  },
  "language_info": {
   "codemirror_mode": {
    "name": "ipython",
    "version": 3
   },
   "file_extension": ".py",
   "mimetype": "text/x-python",
   "name": "python",
   "nbconvert_exporter": "python",
   "pygments_lexer": "ipython3",
   "version": "3.8.3"
  }
 },
 "nbformat": 4,
 "nbformat_minor": 5
}
