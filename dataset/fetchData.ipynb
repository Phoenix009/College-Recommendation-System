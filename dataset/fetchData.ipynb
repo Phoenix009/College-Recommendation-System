{
 "cells": [
  {
   "cell_type": "code",
   "execution_count": 6,
   "metadata": {},
   "outputs": [],
   "source": [
    "import pandas as pd\n",
    "import numpy as np\n",
    "import random"
   ]
  },
  {
   "cell_type": "code",
   "execution_count": null,
   "metadata": {},
   "outputs": [],
   "source": [
    "cutoffs = pd.read_csv('clgBranchCutoff.csv')\n",
    "cutoffs = cutoffs.iloc[::2]\n",
    "cutoffs = cutoffs.drop(columns = ['Unnamed: 0', 'GNT2S', 'LNT2S', 'ORPHAN', 'EWS', 'TFWS', 'ABCD', 'EFGH', 'Unnamed: 16', 'Unnamed: 17'])\n",
    "cutoffs = cutoffs.iloc[:681]"
   ]
  },
  {
   "cell_type": "code",
   "execution_count": null,
   "metadata": {},
   "outputs": [],
   "source": [
    "clgBranch = pd.read_csv('clgNameBranch.csv')\n",
    "clg = clgBranch.iloc[::2]\n",
    "branch = clgBranch.iloc[1::2]\n",
    "clg = list(clg['clg'])\n",
    "branch = list(branch['clg'])\n",
    "cutoffs['ClgName'] = clg\n",
    "cutoffs['Branch'] = branch\n",
    "colnames = ['ClgName', 'Branch', 'GOPENS', 'GSCS', 'GSTS', 'GNT1S', 'GOBCS', 'LOPENS', 'LOBCS', 'PWDOPENS']\n",
    "cutoffs = cutoffs.reindex(columns=colnames)\n",
    "cutoffs\n",
    "colname = ['GOPENS', 'GSCS', 'GSTS', 'GNT1S', 'GOBCS', 'LOPENS', 'LOBCS', 'PWDOPENS']\n",
    "cutoffs = cutoffs.replace(r'\\r.*', '', regex=True)\n",
    "cutoffs = cutoffs.replace(r'.*- ', '', regex=True)\n",
    "cutoffs"
   ]
  },
  {
   "cell_type": "code",
   "execution_count": null,
   "metadata": {},
   "outputs": [],
   "source": [
    "cutoffs.to_csv(\"cutoffs.csv\")"
   ]
  },
  {
   "cell_type": "code",
   "execution_count": 2,
   "metadata": {},
   "outputs": [],
   "source": [
    "def extract_score_rank(string):\n",
    "    info = list(string.split())\n",
    "    info[1] = info[1][1:-1]\n",
    "    return float(info[0]),float(info[1])\n",
    "\n",
    "def extract_name_town_city(sample):\n",
    "    res = sample.split(',')\n",
    "    name, town, city = '', '', ''\n",
    "    if len(res) >= 1: name = res[0]\n",
    "    if len(res) >= 2: town = res[1]\n",
    "    if len(res) >= 3: city = res[2]\n",
    "    return name, town, city\n",
    "\n",
    "\n",
    "def extraction(file_names: list, extenstions: list):\n",
    "    res = []\n",
    "    for index, file_name in enumerate(file_names):\n",
    "        table = pd.read_csv(file_name)\n",
    "\n",
    "        for i in range(table.shape[0]):\n",
    "            if str(table['Score'][i]) == \"nan\":\n",
    "                table['ClgName'][i-1] = str(table['ClgName'][i-1])\n",
    "                table['ClgName'][i-1] += \", \" + str(table['ClgName'][i])\n",
    "        table = table.replace(r'.*- ', '', regex=True)\n",
    "        table = table.replace(r'.*CET', 'MHTCET', regex=True)\n",
    "        table = table.replace(r'\\n', '', regex=True)\n",
    "\n",
    "\n",
    "        table = table.drop(columns=['ChoiceCode'])\n",
    "        table = table.dropna(subset=['Score'])\n",
    "        \n",
    "        rank = 'Rank' + extensions[index]\n",
    "        scores = 'Score' + extensions[index]\n",
    "        table[rank], table[scores] = zip(*table['Score'].map(extract_score_rank))\n",
    "        table['Name'], table['Town'], table['City'] = zip(*table['ClgName'].map(extract_name_town_city))\n",
    "        \n",
    "        table = table.replace(r'.*- ', '', regex=True)\n",
    "        \n",
    "        table = table.drop(columns=['Score', 'ClgName'])\n",
    "        table = table.reindex(columns=[rank, scores, 'Name', 'Branch', 'Town', 'City', 'Exam'])\n",
    "        res.append(table)\n",
    "    return res"
   ]
  },
  {
   "cell_type": "code",
   "execution_count": null,
   "metadata": {
    "scrolled": true
   },
   "outputs": [],
   "source": [
    "file_names = ['jeecap1.csv', 'jeecap2.csv', 'jeecap1_2021.csv', 'jeecap2_2021.csv']\n",
    "df = extraction(file_names)"
   ]
  },
  {
   "cell_type": "code",
   "execution_count": 24,
   "metadata": {},
   "outputs": [],
   "source": [
    "df = pd.read_csv('final.csv')\n",
    "moreinfo = pd.read_csv('moreclgdata.csv')\n",
    "moreinfo.drop(moreinfo.iloc[:, 15:],inplace=True, axis=1)\n",
    "df = pd.merge(df, moreinfo, left_on='Name', right_on='Name')\n",
    "df = df.drop(columns=['Courses', 'City_x'])"
   ]
  },
  {
   "cell_type": "code",
   "execution_count": 25,
   "metadata": {},
   "outputs": [
    {
     "name": "stdout",
     "output_type": "stream",
     "text": [
      "<class 'pandas.core.frame.DataFrame'>\n",
      "Int64Index: 178 entries, 0 to 177\n",
      "Data columns (total 26 columns):\n",
      " #   Column                     Non-Null Count  Dtype  \n",
      "---  ------                     --------------  -----  \n",
      " 0   Unnamed: 0                 178 non-null    int64  \n",
      " 1   Name                       178 non-null    object \n",
      " 2   Branch                     178 non-null    object \n",
      " 3   Town                       178 non-null    object \n",
      " 4   Exam                       178 non-null    object \n",
      " 5   Rank_19_R1                 178 non-null    float64\n",
      " 6   Score_19_R1                178 non-null    float64\n",
      " 7   Rank_19_R2                 178 non-null    float64\n",
      " 8   Score_19_R2                178 non-null    float64\n",
      " 9   Rank_20_R1                 178 non-null    float64\n",
      " 10  Score_20_R1                178 non-null    float64\n",
      " 11  Rank_20_R2                 178 non-null    float64\n",
      " 12  Score_20_R2                178 non-null    float64\n",
      " 13  Genders Accepted           178 non-null    object \n",
      " 14  Campus Size                122 non-null    object \n",
      " 15  Total Student Enrollments  171 non-null    object \n",
      " 16  Total Faculty              178 non-null    object \n",
      " 17  Established Year           178 non-null    object \n",
      " 18  Rating                     105 non-null    object \n",
      " 19  University                 176 non-null    object \n",
      " 20  Facilities                 178 non-null    object \n",
      " 21  City_y                     178 non-null    object \n",
      " 22  State                      178 non-null    object \n",
      " 23  Country                    178 non-null    object \n",
      " 24  College Type               178 non-null    object \n",
      " 25  Average Fees               178 non-null    object \n",
      "dtypes: float64(8), int64(1), object(17)\n",
      "memory usage: 37.5+ KB\n"
     ]
    }
   ],
   "source": [
    "df.info()"
   ]
  },
  {
   "cell_type": "code",
   "execution_count": 26,
   "metadata": {},
   "outputs": [
    {
     "data": {
      "text/plain": [
       "0    3.77\n",
       "1    3.77\n",
       "2     NaN\n",
       "3     NaN\n",
       "4     NaN\n",
       "Name: Rating, dtype: float64"
      ]
     },
     "execution_count": 26,
     "metadata": {},
     "output_type": "execute_result"
    }
   ],
   "source": [
    "df['Rating'] = df['Rating'].astype(float)\n",
    "df['Rating'][:5]"
   ]
  },
  {
   "cell_type": "code",
   "execution_count": 32,
   "metadata": {},
   "outputs": [
    {
     "name": "stderr",
     "output_type": "stream",
     "text": [
      "<ipython-input-32-a845205bb510>:13: SettingWithCopyWarning: \n",
      "A value is trying to be set on a copy of a slice from a DataFrame\n",
      "\n",
      "See the caveats in the documentation: https://pandas.pydata.org/pandas-docs/stable/user_guide/indexing.html#returning-a-view-versus-a-copy\n",
      "  if rank < 700: df['Rating'][i] = random.uniform(3.5, 4)\n",
      "<ipython-input-32-a845205bb510>:16: SettingWithCopyWarning: \n",
      "A value is trying to be set on a copy of a slice from a DataFrame\n",
      "\n",
      "See the caveats in the documentation: https://pandas.pydata.org/pandas-docs/stable/user_guide/indexing.html#returning-a-view-versus-a-copy\n",
      "  elif rank < 5000: df['Rating'][i] = random.uniform(2, 2.5)\n",
      "<ipython-input-32-a845205bb510>:14: SettingWithCopyWarning: \n",
      "A value is trying to be set on a copy of a slice from a DataFrame\n",
      "\n",
      "See the caveats in the documentation: https://pandas.pydata.org/pandas-docs/stable/user_guide/indexing.html#returning-a-view-versus-a-copy\n",
      "  elif rank < 1100: df['Rating'][i] = random.uniform(3, 3.5)\n",
      "<ipython-input-32-a845205bb510>:15: SettingWithCopyWarning: \n",
      "A value is trying to be set on a copy of a slice from a DataFrame\n",
      "\n",
      "See the caveats in the documentation: https://pandas.pydata.org/pandas-docs/stable/user_guide/indexing.html#returning-a-view-versus-a-copy\n",
      "  elif rank < 2000: df['Rating'][i] = random.uniform(2.5, 3)\n",
      "<ipython-input-32-a845205bb510>:17: SettingWithCopyWarning: \n",
      "A value is trying to be set on a copy of a slice from a DataFrame\n",
      "\n",
      "See the caveats in the documentation: https://pandas.pydata.org/pandas-docs/stable/user_guide/indexing.html#returning-a-view-versus-a-copy\n",
      "  else: df['Rating'][i] = random.uniform(1, 2)\n"
     ]
    }
   ],
   "source": [
    "# def assign_ratings(sample, index):\n",
    "#     if sample: return sample\n",
    "    \n",
    "#     rank = df['Rank_20_R1'][index]\n",
    "#     if rank < 400: df['Rating'] = random.uniform(3.5, 4)\n",
    "#     elif rank < 800: df['Rating'] = random.uniform(3, 3.5)\n",
    "#     elif rank < 1200: df['Rating'] = random.uniform(2.5, 3)\n",
    "#     elif rank < 5000: df['Rating'] = random.uniform(2, 2.5)\n",
    "#     else: df['Rating'] = random.uniform(1, 2)\n",
    "    \n",
    "for i in range(df.shape[0]):\n",
    "    rank = df['Rank_20_R1'][i]\n",
    "    if rank < 700: df['Rating'][i] = random.uniform(3.5, 4)\n",
    "    elif rank < 1100: df['Rating'][i] = random.uniform(3, 3.5)\n",
    "    elif rank < 2000: df['Rating'][i] = random.uniform(2.5, 3)\n",
    "    elif rank < 5000: df['Rating'][i] = random.uniform(2, 2.5)\n",
    "    else: df['Rating'][i] = random.uniform(1, 2)\n",
    "    \n",
    "df = df.round({'Rating':2})"
   ]
  },
  {
   "cell_type": "code",
   "execution_count": 33,
   "metadata": {},
   "outputs": [
    {
     "data": {
      "text/html": [
       "<div>\n",
       "<style scoped>\n",
       "    .dataframe tbody tr th:only-of-type {\n",
       "        vertical-align: middle;\n",
       "    }\n",
       "\n",
       "    .dataframe tbody tr th {\n",
       "        vertical-align: top;\n",
       "    }\n",
       "\n",
       "    .dataframe thead th {\n",
       "        text-align: right;\n",
       "    }\n",
       "</style>\n",
       "<table border=\"1\" class=\"dataframe\">\n",
       "  <thead>\n",
       "    <tr style=\"text-align: right;\">\n",
       "      <th></th>\n",
       "      <th>Unnamed: 0</th>\n",
       "      <th>Name</th>\n",
       "      <th>Branch</th>\n",
       "      <th>Town</th>\n",
       "      <th>Exam</th>\n",
       "      <th>Rank_19_R1</th>\n",
       "      <th>Score_19_R1</th>\n",
       "      <th>Rank_19_R2</th>\n",
       "      <th>Score_19_R2</th>\n",
       "      <th>Rank_20_R1</th>\n",
       "      <th>...</th>\n",
       "      <th>Total Faculty</th>\n",
       "      <th>Established Year</th>\n",
       "      <th>Rating</th>\n",
       "      <th>University</th>\n",
       "      <th>Facilities</th>\n",
       "      <th>City_y</th>\n",
       "      <th>State</th>\n",
       "      <th>Country</th>\n",
       "      <th>College Type</th>\n",
       "      <th>Average Fees</th>\n",
       "    </tr>\n",
       "  </thead>\n",
       "  <tbody>\n",
       "    <tr>\n",
       "      <th>0</th>\n",
       "      <td>0</td>\n",
       "      <td>Institute of Chemical Technology</td>\n",
       "      <td>Chemical Engineering</td>\n",
       "      <td>Matunga</td>\n",
       "      <td>JEE</td>\n",
       "      <td>256.0</td>\n",
       "      <td>192.0</td>\n",
       "      <td>391.0</td>\n",
       "      <td>179.0</td>\n",
       "      <td>637.0</td>\n",
       "      <td>...</td>\n",
       "      <td>116</td>\n",
       "      <td>2008</td>\n",
       "      <td>3.55</td>\n",
       "      <td>NaN</td>\n",
       "      <td>Boys Hostel, Girls Hostel, Gym, Library, Sport...</td>\n",
       "      <td>Mumbai</td>\n",
       "      <td>Maharashtra</td>\n",
       "      <td>India</td>\n",
       "      <td>Public/Government</td>\n",
       "      <td>189512.8205</td>\n",
       "    </tr>\n",
       "    <tr>\n",
       "      <th>1</th>\n",
       "      <td>37</td>\n",
       "      <td>Institute of Chemical Technology</td>\n",
       "      <td>Dyestuff Technology</td>\n",
       "      <td>Matunga</td>\n",
       "      <td>JEE</td>\n",
       "      <td>1673.0</td>\n",
       "      <td>128.0</td>\n",
       "      <td>1598.0</td>\n",
       "      <td>130.0</td>\n",
       "      <td>2947.0</td>\n",
       "      <td>...</td>\n",
       "      <td>116</td>\n",
       "      <td>2008</td>\n",
       "      <td>2.28</td>\n",
       "      <td>NaN</td>\n",
       "      <td>Boys Hostel, Girls Hostel, Gym, Library, Sport...</td>\n",
       "      <td>Mumbai</td>\n",
       "      <td>Maharashtra</td>\n",
       "      <td>India</td>\n",
       "      <td>Public/Government</td>\n",
       "      <td>189512.8205</td>\n",
       "    </tr>\n",
       "    <tr>\n",
       "      <th>2</th>\n",
       "      <td>34</td>\n",
       "      <td>Thadomal Shahani Engineering College</td>\n",
       "      <td>Computer Engineering</td>\n",
       "      <td>Bandra</td>\n",
       "      <td>JEE</td>\n",
       "      <td>1025.0</td>\n",
       "      <td>147.0</td>\n",
       "      <td>1159.0</td>\n",
       "      <td>142.0</td>\n",
       "      <td>1073.0</td>\n",
       "      <td>...</td>\n",
       "      <td>110</td>\n",
       "      <td>1983</td>\n",
       "      <td>3.36</td>\n",
       "      <td>University of Mumbai, Mumbai</td>\n",
       "      <td>Library, Sports, Cafeteria, Auditorium, Medica...</td>\n",
       "      <td>Mumbai</td>\n",
       "      <td>Maharashtra</td>\n",
       "      <td>India</td>\n",
       "      <td>Private</td>\n",
       "      <td>587000</td>\n",
       "    </tr>\n",
       "    <tr>\n",
       "      <th>3</th>\n",
       "      <td>38</td>\n",
       "      <td>Thadomal Shahani Engineering College</td>\n",
       "      <td>Information Technology</td>\n",
       "      <td>Bandra</td>\n",
       "      <td>JEE</td>\n",
       "      <td>1882.0</td>\n",
       "      <td>124.0</td>\n",
       "      <td>2076.0</td>\n",
       "      <td>120.0</td>\n",
       "      <td>1446.0</td>\n",
       "      <td>...</td>\n",
       "      <td>110</td>\n",
       "      <td>1983</td>\n",
       "      <td>2.99</td>\n",
       "      <td>University of Mumbai, Mumbai</td>\n",
       "      <td>Library, Sports, Cafeteria, Auditorium, Medica...</td>\n",
       "      <td>Mumbai</td>\n",
       "      <td>Maharashtra</td>\n",
       "      <td>India</td>\n",
       "      <td>Private</td>\n",
       "      <td>587000</td>\n",
       "    </tr>\n",
       "    <tr>\n",
       "      <th>4</th>\n",
       "      <td>74</td>\n",
       "      <td>Thadomal Shahani Engineering College</td>\n",
       "      <td>Chemical Engineering</td>\n",
       "      <td>Bandra</td>\n",
       "      <td>JEE</td>\n",
       "      <td>2496.0</td>\n",
       "      <td>113.0</td>\n",
       "      <td>3169.0</td>\n",
       "      <td>105.0</td>\n",
       "      <td>4015.0</td>\n",
       "      <td>...</td>\n",
       "      <td>110</td>\n",
       "      <td>1983</td>\n",
       "      <td>2.23</td>\n",
       "      <td>University of Mumbai, Mumbai</td>\n",
       "      <td>Library, Sports, Cafeteria, Auditorium, Medica...</td>\n",
       "      <td>Mumbai</td>\n",
       "      <td>Maharashtra</td>\n",
       "      <td>India</td>\n",
       "      <td>Private</td>\n",
       "      <td>587000</td>\n",
       "    </tr>\n",
       "  </tbody>\n",
       "</table>\n",
       "<p>5 rows × 26 columns</p>\n",
       "</div>"
      ],
      "text/plain": [
       "   Unnamed: 0                                  Name                  Branch  \\\n",
       "0           0      Institute of Chemical Technology    Chemical Engineering   \n",
       "1          37      Institute of Chemical Technology     Dyestuff Technology   \n",
       "2          34  Thadomal Shahani Engineering College    Computer Engineering   \n",
       "3          38  Thadomal Shahani Engineering College  Information Technology   \n",
       "4          74  Thadomal Shahani Engineering College    Chemical Engineering   \n",
       "\n",
       "       Town Exam  Rank_19_R1  Score_19_R1  Rank_19_R2  Score_19_R2  \\\n",
       "0   Matunga  JEE       256.0        192.0       391.0        179.0   \n",
       "1   Matunga  JEE      1673.0        128.0      1598.0        130.0   \n",
       "2    Bandra  JEE      1025.0        147.0      1159.0        142.0   \n",
       "3    Bandra  JEE      1882.0        124.0      2076.0        120.0   \n",
       "4    Bandra  JEE      2496.0        113.0      3169.0        105.0   \n",
       "\n",
       "   Rank_20_R1  ...  Total Faculty  Established Year  Rating  \\\n",
       "0       637.0  ...            116              2008    3.55   \n",
       "1      2947.0  ...            116              2008    2.28   \n",
       "2      1073.0  ...            110              1983    3.36   \n",
       "3      1446.0  ...            110              1983    2.99   \n",
       "4      4015.0  ...            110              1983    2.23   \n",
       "\n",
       "                     University  \\\n",
       "0                           NaN   \n",
       "1                           NaN   \n",
       "2  University of Mumbai, Mumbai   \n",
       "3  University of Mumbai, Mumbai   \n",
       "4  University of Mumbai, Mumbai   \n",
       "\n",
       "                                          Facilities  City_y        State  \\\n",
       "0  Boys Hostel, Girls Hostel, Gym, Library, Sport...  Mumbai  Maharashtra   \n",
       "1  Boys Hostel, Girls Hostel, Gym, Library, Sport...  Mumbai  Maharashtra   \n",
       "2  Library, Sports, Cafeteria, Auditorium, Medica...  Mumbai  Maharashtra   \n",
       "3  Library, Sports, Cafeteria, Auditorium, Medica...  Mumbai  Maharashtra   \n",
       "4  Library, Sports, Cafeteria, Auditorium, Medica...  Mumbai  Maharashtra   \n",
       "\n",
       "  Country       College Type Average Fees  \n",
       "0   India  Public/Government  189512.8205  \n",
       "1   India  Public/Government  189512.8205  \n",
       "2   India            Private       587000  \n",
       "3   India            Private       587000  \n",
       "4   India            Private       587000  \n",
       "\n",
       "[5 rows x 26 columns]"
      ]
     },
     "execution_count": 33,
     "metadata": {},
     "output_type": "execute_result"
    }
   ],
   "source": [
    "df.head()"
   ]
  },
  {
   "cell_type": "code",
   "execution_count": 34,
   "metadata": {},
   "outputs": [
    {
     "name": "stdout",
     "output_type": "stream",
     "text": [
      "<class 'pandas.core.frame.DataFrame'>\n",
      "Int64Index: 178 entries, 0 to 177\n",
      "Data columns (total 26 columns):\n",
      " #   Column                     Non-Null Count  Dtype  \n",
      "---  ------                     --------------  -----  \n",
      " 0   Unnamed: 0                 178 non-null    int64  \n",
      " 1   Name                       178 non-null    object \n",
      " 2   Branch                     178 non-null    object \n",
      " 3   Town                       178 non-null    object \n",
      " 4   Exam                       178 non-null    object \n",
      " 5   Rank_19_R1                 178 non-null    float64\n",
      " 6   Score_19_R1                178 non-null    float64\n",
      " 7   Rank_19_R2                 178 non-null    float64\n",
      " 8   Score_19_R2                178 non-null    float64\n",
      " 9   Rank_20_R1                 178 non-null    float64\n",
      " 10  Score_20_R1                178 non-null    float64\n",
      " 11  Rank_20_R2                 178 non-null    float64\n",
      " 12  Score_20_R2                178 non-null    float64\n",
      " 13  Genders Accepted           178 non-null    object \n",
      " 14  Campus Size                122 non-null    object \n",
      " 15  Total Student Enrollments  171 non-null    object \n",
      " 16  Total Faculty              178 non-null    object \n",
      " 17  Established Year           178 non-null    object \n",
      " 18  Rating                     178 non-null    float64\n",
      " 19  University                 176 non-null    object \n",
      " 20  Facilities                 178 non-null    object \n",
      " 21  City_y                     178 non-null    object \n",
      " 22  State                      178 non-null    object \n",
      " 23  Country                    178 non-null    object \n",
      " 24  College Type               178 non-null    object \n",
      " 25  Average Fees               178 non-null    object \n",
      "dtypes: float64(9), int64(1), object(16)\n",
      "memory usage: 41.6+ KB\n"
     ]
    }
   ],
   "source": [
    "df.info()"
   ]
  },
  {
   "cell_type": "code",
   "execution_count": 35,
   "metadata": {},
   "outputs": [],
   "source": [
    "df.to_csv('database.csv')"
   ]
  },
  {
   "cell_type": "code",
   "execution_count": null,
   "metadata": {},
   "outputs": [],
   "source": [
    "file_names = ['jee19-20cap1.csv', 'jee19-20cap2.csv', 'jee20-21cap1.csv', 'jee20-21cap2.csv']\n",
    "extensions = ['_19_R1', '_19_R2', '_20_R1', '_20_R2']\n",
    "df = extraction(file_names, extensions)"
   ]
  },
  {
   "cell_type": "code",
   "execution_count": null,
   "metadata": {},
   "outputs": [],
   "source": [
    "df[0].head()"
   ]
  },
  {
   "cell_type": "code",
   "execution_count": null,
   "metadata": {},
   "outputs": [],
   "source": [
    "df[1].head()"
   ]
  },
  {
   "cell_type": "code",
   "execution_count": null,
   "metadata": {},
   "outputs": [],
   "source": [
    "merge_on = ['Name', 'Branch', 'Town', 'City', 'Exam']\n",
    "\n",
    "res = df[0]\n",
    "for dataframe in df[1:]:\n",
    "    res = pd.merge(res, dataframe, left_on=merge_on, right_on=merge_on)\n",
    "\n",
    "res.head()"
   ]
  },
  {
   "cell_type": "code",
   "execution_count": null,
   "metadata": {},
   "outputs": [],
   "source": [
    "res.columns"
   ]
  },
  {
   "cell_type": "code",
   "execution_count": null,
   "metadata": {},
   "outputs": [],
   "source": [
    "colnames = [ 'Name', 'Branch', 'Town', 'City', 'Exam', 'Rank_19_R1', 'Score_19_R1',\n",
    "       'Rank_19_R2', 'Score_19_R2', 'Rank_20_R1', 'Score_20_R1', 'Rank_20_R2',\n",
    "       'Score_20_R2']\n",
    "res = res.reindex(columns=colnames)"
   ]
  },
  {
   "cell_type": "code",
   "execution_count": null,
   "metadata": {},
   "outputs": [],
   "source": [
    "res.head()"
   ]
  },
  {
   "cell_type": "code",
   "execution_count": null,
   "metadata": {},
   "outputs": [],
   "source": [
    "res.info()"
   ]
  },
  {
   "cell_type": "code",
   "execution_count": null,
   "metadata": {},
   "outputs": [],
   "source": [
    "res.to_csv('final.csv')"
   ]
  },
  {
   "cell_type": "code",
   "execution_count": null,
   "metadata": {},
   "outputs": [],
   "source": []
  }
 ],
 "metadata": {
  "kernelspec": {
   "display_name": "Python 3",
   "language": "python",
   "name": "python3"
  },
  "language_info": {
   "codemirror_mode": {
    "name": "ipython",
    "version": 3
   },
   "file_extension": ".py",
   "mimetype": "text/x-python",
   "name": "python",
   "nbconvert_exporter": "python",
   "pygments_lexer": "ipython3",
   "version": "3.8.3"
  }
 },
 "nbformat": 4,
 "nbformat_minor": 5
}
